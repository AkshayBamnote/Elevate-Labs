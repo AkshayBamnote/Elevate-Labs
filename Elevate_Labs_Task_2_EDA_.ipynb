{
  "nbformat": 4,
  "nbformat_minor": 0,
  "metadata": {
    "colab": {
      "private_outputs": true,
      "provenance": []
    },
    "kernelspec": {
      "name": "python3",
      "display_name": "Python 3"
    },
    "language_info": {
      "name": "python"
    }
  },
  "cells": [
    {
      "cell_type": "code",
      "execution_count": null,
      "metadata": {
        "id": "CYu4D5v3Sckj"
      },
      "outputs": [],
      "source": [
        "!unzip \"/content/archive (4).zip\""
      ]
    },
    {
      "cell_type": "code",
      "source": [
        "import pandas as pd\n",
        "import numpy as np\n",
        "import matplotlib.pyplot as plt\n",
        "import seaborn as sns\n",
        "import plotly.express as px\n",
        "\n",
        "# Set styles\n",
        "sns.set(style=\"whitegrid\")\n"
      ],
      "metadata": {
        "id": "AwVmMTfZbvoa"
      },
      "execution_count": null,
      "outputs": []
    },
    {
      "cell_type": "code",
      "source": [
        "# Load the Titanic dataset\n",
        "df = pd.read_csv(\"/content/Titanic-Dataset.csv\")\n",
        "\n",
        "# Preview first few rows\n",
        "df.head()\n"
      ],
      "metadata": {
        "id": "iifZOia7cJDt"
      },
      "execution_count": null,
      "outputs": []
    },
    {
      "cell_type": "code",
      "source": [
        "# General information\n",
        "df.info()\n",
        "\n",
        "# Summary statistics for numerical columns\n",
        "df.describe()\n",
        "\n",
        "# Check missing values\n",
        "df.isnull().sum()\n"
      ],
      "metadata": {
        "id": "Dxvwf4pvcL5y"
      },
      "execution_count": null,
      "outputs": []
    },
    {
      "cell_type": "code",
      "source": [
        "numerical_features = ['Age', 'Fare', 'SibSp', 'Parch']\n",
        "\n",
        "df[numerical_features].hist(bins=15, figsize=(12, 8), color='skyblue')\n",
        "plt.suptitle('Histograms of Numerical Features', fontsize=16)\n",
        "plt.show()\n"
      ],
      "metadata": {
        "id": "dVLf4bQjcRBF"
      },
      "execution_count": null,
      "outputs": []
    },
    {
      "cell_type": "code",
      "source": [
        "plt.figure(figsize=(12, 6))\n",
        "for i, col in enumerate(numerical_features, 1):\n",
        "    plt.subplot(1, 4, i)\n",
        "    sns.boxplot(y=df[col])\n",
        "    plt.title(f'Boxplot of {col}')\n",
        "plt.tight_layout()\n",
        "plt.show()\n"
      ],
      "metadata": {
        "id": "Si8XpiLYcStc"
      },
      "execution_count": null,
      "outputs": []
    },
    {
      "cell_type": "code",
      "source": [
        "# Correlation matrix\n",
        "corr_matrix = df[numerical_features].corr()\n",
        "sns.heatmap(corr_matrix, annot=True, cmap='coolwarm', fmt=\".2f\")\n",
        "plt.title('Correlation Matrix')\n",
        "plt.show()\n",
        "\n",
        "# Pairplot (small sample for readability)\n",
        "sns.pairplot(df[numerical_features + ['Survived']].dropna(), hue='Survived')\n",
        "plt.show()\n"
      ],
      "metadata": {
        "id": "yC83S20ncUfC"
      },
      "execution_count": null,
      "outputs": []
    },
    {
      "cell_type": "code",
      "source": [
        "# Survival rate by gender\n",
        "sns.countplot(data=df, x='Sex', hue='Survived')\n",
        "plt.title('Survival Count by Gender')\n",
        "plt.show()\n",
        "\n",
        "# Age distribution by survival\n",
        "sns.violinplot(data=df, x='Survived', y='Age', inner='quartile')\n",
        "plt.title('Age Distribution by Survival')\n",
        "plt.show()\n",
        "\n",
        "# Class vs Survival\n",
        "sns.barplot(data=df, x='Pclass', y='Survived')\n",
        "plt.title('Survival Rate by Passenger Class')\n",
        "plt.show()\n"
      ],
      "metadata": {
        "id": "DDeGaZUIcWZU"
      },
      "execution_count": null,
      "outputs": []
    },
    {
      "cell_type": "markdown",
      "source": [
        "##  feature-level inferences"
      ],
      "metadata": {
        "id": "gQsUSlT4cpR8"
      }
    },
    {
      "cell_type": "code",
      "source": [
        "# Females had a much higher survival rate than males.\n",
        "# Younger passengers were more likely to survive.\n",
        "# 1st class passengers had better survival chances than 2nd or 3rd.\n",
        "# Fare has a few extreme outliers.\n",
        "# SibSp and Parch are positively skewed."
      ],
      "metadata": {
        "id": "NZOxxC3hcYwK"
      },
      "execution_count": null,
      "outputs": []
    }
  ]
}