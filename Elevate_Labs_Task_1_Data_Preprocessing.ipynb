{
  "nbformat": 4,
  "nbformat_minor": 0,
  "metadata": {
    "colab": {
      "private_outputs": true,
      "provenance": []
    },
    "kernelspec": {
      "name": "python3",
      "display_name": "Python 3"
    },
    "language_info": {
      "name": "python"
    }
  },
  "cells": [
    {
      "cell_type": "markdown",
      "source": [
        "## Libraries\n"
      ],
      "metadata": {
        "id": "TmaT5xZ1Hdzn"
      }
    },
    {
      "cell_type": "code",
      "execution_count": null,
      "metadata": {
        "id": "9HPEqyaO7QY0"
      },
      "outputs": [],
      "source": [
        "import pandas as pd\n",
        "import numpy as np\n",
        "import matplotlib.pyplot as plt\n",
        "from sklearn.preprocessing import LabelEncoder, OneHotEncoder\n",
        "from sklearn.preprocessing import MinMaxScaler, StandardScaler\n",
        "\n"
      ]
    },
    {
      "cell_type": "markdown",
      "source": [
        "## Load and Understand Dataset"
      ],
      "metadata": {
        "id": "hdAYAUb9HiEF"
      }
    },
    {
      "cell_type": "code",
      "source": [
        "df = pd.read_csv(\"/content/diabetes.csv\")\n",
        "print(df.head(6))\n"
      ],
      "metadata": {
        "id": "b_6WCTx28hIo"
      },
      "execution_count": null,
      "outputs": []
    },
    {
      "cell_type": "code",
      "source": [
        "df.info()"
      ],
      "metadata": {
        "id": "rqlkxn3d8oHj"
      },
      "execution_count": null,
      "outputs": []
    },
    {
      "cell_type": "code",
      "source": [
        "df.describe()"
      ],
      "metadata": {
        "id": "Rrt-FfIH9Kow"
      },
      "execution_count": null,
      "outputs": []
    },
    {
      "cell_type": "code",
      "source": [
        "print(df.isnull().sum())"
      ],
      "metadata": {
        "id": "mV9DwaVV9RRd"
      },
      "execution_count": null,
      "outputs": []
    },
    {
      "cell_type": "markdown",
      "source": [
        "## Handle Missing Values"
      ],
      "metadata": {
        "id": "xmMP_CphHrbe"
      }
    },
    {
      "cell_type": "code",
      "source": [
        "#replace with mean\n",
        "df.fillna(df.mean(), inplace = True)\n",
        "#replace with median\n",
        "df.fillna(df.median(), inplace = True)"
      ],
      "metadata": {
        "id": "XlQV-w9YFW1G"
      },
      "execution_count": null,
      "outputs": []
    },
    {
      "cell_type": "markdown",
      "source": [
        "## Encoding"
      ],
      "metadata": {
        "id": "lSIOlRviHv7M"
      }
    },
    {
      "cell_type": "code",
      "source": [
        "print(df.dtypes)"
      ],
      "metadata": {
        "id": "Eidi8KYaIBSe"
      },
      "execution_count": null,
      "outputs": []
    },
    {
      "cell_type": "code",
      "source": [
        "#Label Encoding\n",
        "le = LabelEncoder()\n",
        "df['Outcome'] = le.fit_transform(df['Outcome'])\n",
        "\n",
        "\n",
        "#Onehot Encoding\n",
        "Encoder = OneHotEncoder()\n",
        "OneHotEncoded = Encoder.fit_transform(df[['Outcome']])\n",
        "#Here we have Binary categorial Data so we dont need OneHotEncoding\n",
        "# print(OneHotEncoded)\n",
        "\n"
      ],
      "metadata": {
        "id": "pM9W1AV5GIWS"
      },
      "execution_count": null,
      "outputs": []
    },
    {
      "cell_type": "markdown",
      "source": [
        "## Standardize and Normlize Data"
      ],
      "metadata": {
        "id": "1FWQMHmMIKpi"
      }
    },
    {
      "cell_type": "code",
      "source": [
        "df.dtypes"
      ],
      "metadata": {
        "id": "4ActDJ_LFI8y"
      },
      "execution_count": null,
      "outputs": []
    },
    {
      "cell_type": "code",
      "source": [
        "#Standardize\n",
        "num_cols = df.select_dtypes(include=['int64', 'float64']).columns\n",
        "scaler = StandardScaler()\n",
        "df[num_cols] = scaler.fit_transform(df[num_cols])\n",
        "print(df[num_cols] )"
      ],
      "metadata": {
        "id": "dOaJxAYQIOYn"
      },
      "execution_count": null,
      "outputs": []
    },
    {
      "cell_type": "code",
      "source": [
        "#Normalize\n",
        "\n",
        "scaler = MinMaxScaler()\n",
        "df[num_cols] = scaler.fit_transform(df[num_cols])\n",
        "df[num_cols]"
      ],
      "metadata": {
        "id": "2cMYmjVvIOMN"
      },
      "execution_count": null,
      "outputs": []
    },
    {
      "cell_type": "markdown",
      "source": [
        "## Outlier plotting and Removing"
      ],
      "metadata": {
        "id": "r8ceoDMyH1j4"
      }
    },
    {
      "cell_type": "code",
      "source": [
        "num_cols = len(df.columns)\n",
        "fig, axs = plt.subplots(num_cols, 1, dpi=95, figsize=(7, 2*num_cols))\n",
        "\n",
        "for i, col in enumerate(df.columns):\n",
        "    axs[i].boxplot(df[col], vert=False)\n",
        "    axs[i].set_ylabel(col)\n",
        "\n",
        "plt.tight_layout()\n",
        "plt.show()\n"
      ],
      "metadata": {
        "id": "Y4EUgZQo-Rh0"
      },
      "execution_count": null,
      "outputs": []
    },
    {
      "cell_type": "code",
      "source": [
        "#copy the dataframe\n",
        "clean_data = df.copy()\n",
        "\n",
        "#select columns to clean\n",
        "columns = [\n",
        "    'Pregnancies','Glucose','BloodPressure','Insulin','Age', 'BMI', 'DiabetesPedigreeFunction'\n",
        "]\n",
        "# Use 1.5 * IQR for most columns, but a custom rule for BloodPressure\n",
        "for col in columns:\n",
        "    q1, q3 = np.percentile(clean_data[col], [25, 75])\n",
        "    iqr = q3 - q1\n",
        "\n",
        "    # Use 0.75 * IQR only for BloodPressure\n",
        "    factor = 0.75 if col == 'BloodPressure' else 1.5\n",
        "\n",
        "    lower_bound = q1 - factor * iqr\n",
        "    upper_bound = q3 + factor * iqr\n",
        "\n",
        "    # Filter the data\n",
        "    clean_data = clean_data[(clean_data[col] >= lower_bound) & (clean_data[col] <= upper_bound)]\n",
        "\n",
        "# Final cleaned dataset\n",
        "print(\"Original shape:\", df.shape)\n",
        "print(\"Cleaned shape:\", clean_data.shape)"
      ],
      "metadata": {
        "id": "c9bJvJ_V-oKU"
      },
      "execution_count": null,
      "outputs": []
    },
    {
      "cell_type": "code",
      "source": [
        "num_cols = len(clean_data.columns)\n",
        "fig, axs = plt.subplots(num_cols, 1, dpi=95, figsize=(7, 2*num_cols))\n",
        "\n",
        "for i, col in enumerate(clean_data.columns):\n",
        "    axs[i].boxplot(clean_data[col], vert=False)\n",
        "    axs[i].set_ylabel(col)\n",
        "\n",
        "plt.tight_layout()\n",
        "plt.show()\n"
      ],
      "metadata": {
        "id": "-C1_P2HiEQuc"
      },
      "execution_count": null,
      "outputs": []
    },
    {
      "cell_type": "code",
      "source": [],
      "metadata": {
        "id": "qvT4pXtNEQm4"
      },
      "execution_count": null,
      "outputs": []
    },
    {
      "cell_type": "code",
      "source": [],
      "metadata": {
        "id": "g3gM3J8AEQgF"
      },
      "execution_count": null,
      "outputs": []
    }
  ]
}